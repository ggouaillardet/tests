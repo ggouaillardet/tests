{
 "cells": [
  {
   "cell_type": "code",
   "execution_count": 1,
   "metadata": {},
   "outputs": [
    {
     "name": "stdout",
     "output_type": "stream",
     "text": [
      "\n"
     ]
    }
   ],
   "source": [
    "import pandas as pd\n",
    "df1 = pd.read_csv('m1.csv')\n",
    "x = pd.DataFrame({'DS' : ['run1' for i in range(2)]})\n",
    "df1 = pd.concat([x, df1], axis=1)\n",
    "df2 = pd.read_csv('m2.csv')\n",
    "x = pd.DataFrame({'DS' : ['run2' for i in range(2)]})\n",
    "df2 = pd.concat([x, df2], axis=1)\n",
    "df3 = pd.read_csv('m3.csv')\n",
    "x = pd.DataFrame({'DS' : ['run3' for i in range(2)]})\n",
    "df3 = pd.concat([x, df3], axis=1)\n",
    "df = pd.concat([df1, df2, df3], axis=0)\n",
    "dfp = df.pivot(index='DS', columns='Metric', values='Value')\n",
    "dfp.plot.bar(stacked=True)\n",
    "print()"
   ]
  },
  {
   "cell_type": "code",
   "execution_count": 2,
   "metadata": {},
   "outputs": [
    {
     "name": "stdout",
     "output_type": "stream",
     "text": [
      "\n"
     ]
    },
    {
     "data": {
      "image/png": "[encoded data removed]",
      "text/plain": [
       "<Figure size 432x288 with 1 Axes>"
      ]
     },
     "metadata": {
      "needs_background": "light"
     },
     "output_type": "display_data"
    }
   ],
   "source": [
    "print()"
   ]
  },
  {
   "cell_type": "code",
   "execution_count": 3,
   "metadata": {},
   "outputs": [
    {
     "name": "stdout",
     "output_type": "stream",
     "text": [
      "\n"
     ]
    }
   ],
   "source": [
    "print()"
   ]
  },
  {
   "cell_type": "code",
   "execution_count": null,
   "metadata": {},
   "outputs": [],
   "source": []
  }
 ],
 "metadata": {
  "kernelspec": {
   "display_name": "Python 3",
   "language": "python",
   "name": "python3"
  },
  "language_info": {
   "codemirror_mode": {
    "name": "ipython",
    "version": 3
   },
   "file_extension": ".py",
   "mimetype": "text/x-python",
   "name": "python",
   "nbconvert_exporter": "python",
   "pygments_lexer": "ipython3",
   "version": "3.8.3"
  }
 },
 "nbformat": 4,
 "nbformat_minor": 4
}
